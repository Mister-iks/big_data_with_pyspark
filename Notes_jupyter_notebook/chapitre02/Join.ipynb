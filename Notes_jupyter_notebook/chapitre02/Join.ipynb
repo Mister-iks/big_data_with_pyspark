{
 "cells": [
  {
   "cell_type": "code",
   "execution_count": 1,
   "id": "f47e22b5-3ea4-4691-85f1-3e3595e2c439",
   "metadata": {},
   "outputs": [],
   "source": [
    "from pyspark.sql import SparkSession\n",
    "import pyspark.sql.functions as F\n",
    "from pyspark.sql.functions import pandas_udf, PandasUDFType\n",
    "from pyspark.sql.types import *\n",
    "spark=SparkSession.builder.appName('data_processing').getOrCreate()"
   ]
  },
  {
   "cell_type": "markdown",
   "id": "41ddb14e",
   "metadata": {},
   "source": [
    "Dans certains cas de figure de traitement, nous aurions besoins de faire des jointures sur nos données.\n",
    "Alors nous pouvons uiliser la méthode ***join***"
   ]
  },
  {
   "cell_type": "code",
   "execution_count": 26,
   "id": "3abc7bf2-ed6d-4f69-b79c-fc8a550e843d",
   "metadata": {},
   "outputs": [],
   "source": [
    "users_email = spark.read.csv(\"users_email.csv\", header=True, inferSchema=True)\n",
    "\n",
    "#creation d'un dataframe\n",
    "region_data = spark.createDataFrame([('Family with grown ups','PN'),('Driven Growers','GJ'),('Conservative families','DD'), ('Cruising Seniors','DL'), ('Average Family ','MN'),('Living well','KA'),('Successful hedonists','JH'),('Retired and Religious','AX')],schema=StructType().add(\"Customer\",\"string\").add(\"RegionCode\",\"string\"))\n"
   ]
  },
  {
   "cell_type": "code",
   "execution_count": 27,
   "id": "99160f59-578f-4aa1-be70-4ce1d8662329",
   "metadata": {},
   "outputs": [
    {
     "name": "stdout",
     "output_type": "stream",
     "text": [
      "+--------------------+----------+\n",
      "|            Customer|RegionCode|\n",
      "+--------------------+----------+\n",
      "|Family with grown...|        PN|\n",
      "|      Driven Growers|        GJ|\n",
      "|Conservative fami...|        DD|\n",
      "|    Cruising Seniors|        DL|\n",
      "|     Average Family |        MN|\n",
      "|         Living well|        KA|\n",
      "|Successful hedonists|        JH|\n",
      "|Retired and Relig...|        AX|\n",
      "+--------------------+----------+\n",
      "\n"
     ]
    }
   ],
   "source": [
    "region_data.show()"
   ]
  },
  {
   "cell_type": "markdown",
   "id": "a9b52042",
   "metadata": {},
   "source": [
    "Voici comment effectuer une jointure.Ici, nous allons joindre le dataframe ***region_data*** à notre fichier ***users_email***"
   ]
  },
  {
   "cell_type": "code",
   "execution_count": 33,
   "id": "9b96aaf4-fbbe-4294-9531-3704fd2ee5bc",
   "metadata": {},
   "outputs": [
    {
     "name": "stdout",
     "output_type": "stream",
     "text": [
      "+--------------------+--------+--------------------+----------+\n",
      "|               email|isactive|            Customer|RegionCode|\n",
      "+--------------------+--------+--------------------+----------+\n",
      "|sollicitudin.comm...|      No|Family with grown...|        PN|\n",
      "|senectus.et@proto...|     Yes|Family with grown...|        PN|\n",
      "|lacus.varius.et@i...|     Yes|Family with grown...|        PN|\n",
      "|    diam@hotmail.net|     Yes|Family with grown...|        PN|\n",
      "|   augue@outlook.net|      No|Family with grown...|        PN|\n",
      "|non.cursus@outloo...|     Yes|Family with grown...|        PN|\n",
      "|massa.integer.vit...|      No|Family with grown...|        PN|\n",
      "|ullamcorper.duis@...|     Yes|Family with grown...|        PN|\n",
      "| sem.eget@google.org|      No|Family with grown...|        PN|\n",
      "|orci.lacus@hotmai...|      No|Family with grown...|        PN|\n",
      "|et.magnis.dis@goo...|     Yes|Family with grown...|        PN|\n",
      "|mollis.phasellus@...|      No|Family with grown...|        PN|\n",
      "|eget.laoreet@hotm...|      No|Family with grown...|        PN|\n",
      "|pellentesque.ut@g...|      No|Family with grown...|        PN|\n",
      "|    proin@hotmail.ca|     Yes|Family with grown...|        PN|\n",
      "| semper@outlook.couk|     Yes|Family with grown...|        PN|\n",
      "|     nam@outlook.com|     Yes|Family with grown...|        PN|\n",
      "|    sed.pede@aol.com|     Yes|Family with grown...|        PN|\n",
      "|dui.semper@outloo...|      No|Family with grown...|        PN|\n",
      "|ac.fermentum@yaho...|     Yes|Family with grown...|        PN|\n",
      "+--------------------+--------+--------------------+----------+\n",
      "only showing top 20 rows\n",
      "\n"
     ]
    }
   ],
   "source": [
    "new_region_data = users_email.join(region_data)\n",
    "new_region_data.show()"
   ]
  },
  {
   "cell_type": "code",
   "execution_count": 34,
   "id": "0d76109d-821a-4e06-8cfe-49115118a69c",
   "metadata": {},
   "outputs": [
    {
     "name": "stdout",
     "output_type": "stream",
     "text": [
      "+----------+-----+\n",
      "|RegionCode|count|\n",
      "+----------+-----+\n",
      "|        GJ|  300|\n",
      "|        PN|  300|\n",
      "|        DD|  300|\n",
      "|        DL|  300|\n",
      "|        MN|  300|\n",
      "|        KA|  300|\n",
      "|        JH|  300|\n",
      "|        AX|  300|\n",
      "+----------+-----+\n",
      "\n"
     ]
    }
   ],
   "source": [
    "new_region_data.groupBy('RegionCode').count().show()"
   ]
  }
 ],
 "metadata": {
  "kernelspec": {
   "display_name": "Python 3 (ipykernel)",
   "language": "python",
   "name": "python3"
  },
  "language_info": {
   "codemirror_mode": {
    "name": "ipython",
    "version": 3
   },
   "file_extension": ".py",
   "mimetype": "text/x-python",
   "name": "python",
   "nbconvert_exporter": "python",
   "pygments_lexer": "ipython3",
   "version": "3.10.6"
  }
 },
 "nbformat": 4,
 "nbformat_minor": 5
}
