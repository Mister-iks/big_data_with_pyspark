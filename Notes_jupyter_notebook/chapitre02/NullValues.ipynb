{
 "cells": [
  {
   "cell_type": "code",
   "execution_count": 2,
   "id": "1718e27b-2151-4335-8c3d-e8b8b761eab3",
   "metadata": {},
   "outputs": [],
   "source": [
    "from pyspark.sql import SparkSession\n",
    "import pyspark.sql.functions as F\n",
    "from pyspark.sql.types import *\n",
    "spark=SparkSession.builder.appName('data_processing').getOrCreate()"
   ]
  },
  {
   "cell_type": "markdown",
   "id": "be9e050f",
   "metadata": {},
   "source": [
    "Tout comme dans une base de données, nous allons définir la structure de notre Dataframe grace à ***StructType().add(nom_colone, type_colone)***"
   ]
  },
  {
   "cell_type": "code",
   "execution_count": 11,
   "id": "15e06976-3fe5-453f-afcf-f4e8682d4b6d",
   "metadata": {},
   "outputs": [],
   "source": [
    "schema = StructType().add(\"user_id\",\"string\").add(\"country\",\"string\").add(\"browser\",\"string\").add(\"os\",\"string\").add(\"age\",\"integer\") #permet de definir la structure des données\n",
    "peopleDataframe = spark.createDataFrame([(\"A203\",None,\"Chrome\",\"WIN\",33),(\"A201\",'China',None,\"MacOS\",35),(\"A205\",'UK',\"Mozilla\",\"Linux\",23)],schema=schema) #creer un dataframe avec des valeurs null"
   ]
  },
  {
   "cell_type": "code",
   "execution_count": 12,
   "id": "19b2c85c-5f57-4a09-a698-2f6025a72952",
   "metadata": {},
   "outputs": [
    {
     "name": "stdout",
     "output_type": "stream",
     "text": [
      "+-------+-------+-------+-----+---+\n",
      "|user_id|country|browser|   os|age|\n",
      "+-------+-------+-------+-----+---+\n",
      "|   A203|   null| Chrome|  WIN| 33|\n",
      "|   A201|  China|   null|MacOS| 35|\n",
      "|   A205|     UK|Mozilla|Linux| 23|\n",
      "+-------+-------+-------+-----+---+\n",
      "\n"
     ]
    }
   ],
   "source": [
    "peopleDataframe.show() #permet d'afficher le contenu du dataframe"
   ]
  },
  {
   "cell_type": "markdown",
   "id": "1166add0",
   "metadata": {},
   "source": [
    "Pour remplacer les valeurs null nous allons utiliser la methode ***fillna()***.\n",
    "Elle prend comme argument la valeur qui remplacera les élements null"
   ]
  },
  {
   "cell_type": "code",
   "execution_count": 13,
   "id": "bfedf8b2-4e1f-482d-9e0f-6265b949568d",
   "metadata": {},
   "outputs": [
    {
     "name": "stdout",
     "output_type": "stream",
     "text": [
      "+-------+-------+-------+-----+---+\n",
      "|user_id|country|browser|   os|age|\n",
      "+-------+-------+-------+-----+---+\n",
      "|   A203|      1| Chrome|  WIN| 33|\n",
      "|   A201|  China|      1|MacOS| 35|\n",
      "|   A205|     UK|Mozilla|Linux| 23|\n",
      "+-------+-------+-------+-----+---+\n",
      "\n",
      "################\n",
      "+-------+-------+-------+-----+---+\n",
      "|user_id|country|browser|   os|age|\n",
      "+-------+-------+-------+-----+---+\n",
      "|   A203|SENEGAL| Chrome|  WIN| 33|\n",
      "|   A201|  China| CHROME|MacOS| 35|\n",
      "|   A205|     UK|Mozilla|Linux| 23|\n",
      "+-------+-------+-------+-----+---+\n",
      "\n"
     ]
    }
   ],
   "source": [
    "# 1ere méthode\n",
    "peopleDataframe.fillna('1').show()\n",
    "print(\"################\")\n",
    "# 2eme methode avec specification des colones\n",
    "peopleDataframe.fillna({'country':'SENEGAL','browser':'CHROME'}).show()"
   ]
  },
  {
   "cell_type": "markdown",
   "id": "077a8532",
   "metadata": {},
   "source": [
    "Nous avons aussi la possibilité de supprimer toutes les lignes ayant au moins une valeur null grace à ***na.drop()***"
   ]
  },
  {
   "cell_type": "code",
   "execution_count": 17,
   "id": "57df31b1-df56-4620-9dd0-bcd8c2e5c78c",
   "metadata": {},
   "outputs": [
    {
     "name": "stdout",
     "output_type": "stream",
     "text": [
      "Avant traitement\n",
      "+-------+-------+-------+-----+---+\n",
      "|user_id|country|browser|   os|age|\n",
      "+-------+-------+-------+-----+---+\n",
      "|   A203|   null| Chrome|  WIN| 33|\n",
      "|   A201|  China|   null|MacOS| 35|\n",
      "|   A205|     UK|Mozilla|Linux| 23|\n",
      "+-------+-------+-------+-----+---+\n",
      "\n",
      "DURANT LE PROCESS\n",
      "+-------+-------+-------+-----+---+\n",
      "|user_id|country|browser|   os|age|\n",
      "+-------+-------+-------+-----+---+\n",
      "|   A205|     UK|Mozilla|Linux| 23|\n",
      "+-------+-------+-------+-----+---+\n",
      "\n",
      "#############\n",
      "+-------+-------+-------+-----+---+\n",
      "|user_id|country|browser|   os|age|\n",
      "+-------+-------+-------+-----+---+\n",
      "|   A203|   null| Chrome|  WIN| 33|\n",
      "|   A205|     UK|Mozilla|Linux| 23|\n",
      "+-------+-------+-------+-----+---+\n",
      "\n"
     ]
    }
   ],
   "source": [
    "print(\"Avant traitement\")\n",
    "peopleDataframe.show()\n",
    "\n",
    "print(\"DURANT LE PROCESS\")\n",
    "# 1ere methode: sans specifier de colone\n",
    "peopleDataframe.na.drop().show()\n",
    "\n",
    "print(\"#############\")\n",
    "\n",
    "#2eme méthode : en specifiant la colone à verifier\n",
    "peopleDataframe.na.drop(subset='browser').show()"
   ]
  },
  {
   "cell_type": "markdown",
   "id": "a3f86678",
   "metadata": {},
   "source": [
    "Il est aussi possible de remplacer une donnée par une autre bien spécifique grace à ***replace(p1,p2)*** qui prend comme argument p1= la valeur à remplacer et p2=la nouvelle valeur"
   ]
  },
  {
   "cell_type": "code",
   "execution_count": 18,
   "id": "e3f64592-b397-4823-86ac-d593bbf32782",
   "metadata": {},
   "outputs": [
    {
     "name": "stdout",
     "output_type": "stream",
     "text": [
      "+-------+-------+-------------+-----+---+\n",
      "|user_id|country|      browser|   os|age|\n",
      "+-------+-------+-------------+-----+---+\n",
      "|   A203|   null|GOOGLE CHROME|  WIN| 33|\n",
      "|   A201|  China|         null|MacOS| 35|\n",
      "|   A205|     UK|      Mozilla|Linux| 23|\n",
      "+-------+-------+-------------+-----+---+\n",
      "\n"
     ]
    }
   ],
   "source": [
    "peopleDataframe.replace(\"Chrome\", \"GOOGLE CHROME\").show()"
   ]
  },
  {
   "cell_type": "markdown",
   "id": "0930cf66",
   "metadata": {},
   "source": [
    "Nous pouvons aussi supprimer une colone entière avec l'ensemble de ces données grace à ***drop(nom_colone)***"
   ]
  },
  {
   "cell_type": "code",
   "execution_count": 19,
   "id": "11f1a20f-dc74-40a6-907b-ba4ca218f5af",
   "metadata": {},
   "outputs": [
    {
     "name": "stdout",
     "output_type": "stream",
     "text": [
      "+-------+-------+-----+---+\n",
      "|user_id|country|   os|age|\n",
      "+-------+-------+-----+---+\n",
      "|   A203|   null|  WIN| 33|\n",
      "|   A201|  China|MacOS| 35|\n",
      "|   A205|     UK|Linux| 23|\n",
      "+-------+-------+-----+---+\n",
      "\n"
     ]
    }
   ],
   "source": [
    "peopleDataframe.drop('browser').show()"
   ]
  }
 ],
 "metadata": {
  "kernelspec": {
   "display_name": "Python 3 (ipykernel)",
   "language": "python",
   "name": "python3"
  },
  "language_info": {
   "codemirror_mode": {
    "name": "ipython",
    "version": 3
   },
   "file_extension": ".py",
   "mimetype": "text/x-python",
   "name": "python",
   "nbconvert_exporter": "python",
   "pygments_lexer": "ipython3",
   "version": "3.10.6"
  }
 },
 "nbformat": 4,
 "nbformat_minor": 5
}
