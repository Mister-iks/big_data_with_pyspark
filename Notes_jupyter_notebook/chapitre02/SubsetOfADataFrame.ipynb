{
 "cells": [
  {
   "cell_type": "code",
   "execution_count": 1,
   "id": "1718e27b-2151-4335-8c3d-e8b8b761eab3",
   "metadata": {},
   "outputs": [],
   "source": [
    "from pyspark.sql import SparkSession\n",
    "import pyspark.sql.functions as F\n",
    "from pyspark.sql.types import *\n",
    "spark=SparkSession.builder.appName('data_processing').getOrCreate()"
   ]
  },
  {
   "cell_type": "markdown",
   "id": "19acccbb",
   "metadata": {},
   "source": [
    "En fonction de nos besoins, on peut avoir besoin de creer des sous ensembles selon plusieurs conditions soit mettant en place\n",
    "  - Des filtres\n",
    "  - Des selections par colone ou données\n",
    "  - Passer par une clause comme Where"
   ]
  },
  {
   "cell_type": "code",
   "execution_count": 38,
   "id": "f969658d-1d89-4711-941a-8af030cb15c0",
   "metadata": {},
   "outputs": [],
   "source": [
    "users_csv_file = spark.read.csv(\"users.csv\", header=True, inferSchema=True)\n"
   ]
  },
  {
   "cell_type": "code",
   "execution_count": 34,
   "id": "73bbc26a-3b3b-4678-977e-ac08969490d9",
   "metadata": {},
   "outputs": [
    {
     "name": "stdout",
     "output_type": "stream",
     "text": [
      "+-------------------+------------+\n",
      "|               name|     country|\n",
      "+-------------------+------------+\n",
      "|       Adara Mcneil|     Austria|\n",
      "|     Barry Valencia|      Sweden|\n",
      "|      Barry Delgado|     Vietnam|\n",
      "|      Shelley Oneal|      Canada|\n",
      "|     Wyoming Cherry|South Africa|\n",
      "|       Lani Holcomb|     Germany|\n",
      "|       Cedric Leach|     Austria|\n",
      "|          Edan Wood|       Chile|\n",
      "|       Berk Goodwin|     Nigeria|\n",
      "|      Palmer Burris| New Zealand|\n",
      "|         Nehru Nash|     Belgium|\n",
      "|      Kessie Branch|     Vietnam|\n",
      "|     Emery Reynolds|     Ireland|\n",
      "|      Buffy Coleman|      France|\n",
      "|     Chava Roberson|     Ireland|\n",
      "|    Maile Cervantes|        Peru|\n",
      "|         Erin Frost|   Australia|\n",
      "|     Jennifer Lucas| Philippines|\n",
      "|Allistair Rodriguez|   Singapore|\n",
      "|     Odysseus Mckay| Philippines|\n",
      "+-------------------+------------+\n",
      "only showing top 20 rows\n",
      "\n"
     ]
    }
   ],
   "source": [
    "# Utilisation de la méthode Select en specifiant la colone à affcher.\n",
    "users_csv_file.select([\"name\",\"country\"]).show()"
   ]
  },
  {
   "cell_type": "markdown",
   "id": "9fdcab08",
   "metadata": {},
   "source": [
    "Utilisation de la méthode filter\n",
    "Dans cet exemple, nous allons selectionner tous les utilisateurs qui sont en france puis les compter."
   ]
  },
  {
   "cell_type": "code",
   "execution_count": 13,
   "id": "25023d3a-bbb7-4234-847d-dd605c013a72",
   "metadata": {},
   "outputs": [
    {
     "name": "stdout",
     "output_type": "stream",
     "text": [
      "+---------------+--------------+-------+\n",
      "|           name|         phone|country|\n",
      "+---------------+--------------+-------+\n",
      "|  Buffy Coleman|1-638-798-2347| France|\n",
      "|  Jescie Vaughn|1-802-201-1155| France|\n",
      "|Madeson Nichols|(872) 927-3473| France|\n",
      "|Charlotte Boyer|(774) 724-7782| France|\n",
      "|Maxwell Whitley|(322) 643-2583| France|\n",
      "|  Gavin Pacheco|1-721-208-1874| France|\n",
      "|     Hilda Soto|(419) 556-6647| France|\n",
      "|    Maisie Mack|(685) 762-3116| France|\n",
      "|    Otto Hansen|(445) 699-7373| France|\n",
      "|  Cameron Reese|1-541-532-3151| France|\n",
      "|  Stewart Cantu|(137) 676-2238| France|\n",
      "+---------------+--------------+-------+\n",
      "\n",
      "Le nombre de user en france est de :  11\n"
     ]
    }
   ],
   "source": [
    "users_csv_file.filter(users_csv_file['country'] == 'France').show()\n",
    "number_of_users_in_france = users_csv_file.filter(users_csv_file['country'] == 'France').count()\n",
    "print(\"Le nombre de user en france est de : \", number_of_users_in_france)"
   ]
  },
  {
   "cell_type": "markdown",
   "id": "e0136d13",
   "metadata": {},
   "source": [
    "Utilisation de plusieurs filtres\n",
    "Dans cet exemple, nous allons:\n",
    "  - selectionner tous les utilisateurs qui sont de France\n",
    "  - puis afficher ceux qui ont la lettre y dans leur nom"
   ]
  },
  {
   "cell_type": "code",
   "execution_count": 14,
   "id": "67365f5b-8423-46b7-97b0-39d1cc8d29d4",
   "metadata": {},
   "outputs": [
    {
     "name": "stdout",
     "output_type": "stream",
     "text": [
      "+---------------+--------------+-------+\n",
      "|           name|         phone|country|\n",
      "+---------------+--------------+-------+\n",
      "|  Buffy Coleman|1-638-798-2347| France|\n",
      "|Charlotte Boyer|(774) 724-7782| France|\n",
      "|Maxwell Whitley|(322) 643-2583| France|\n",
      "+---------------+--------------+-------+\n",
      "\n"
     ]
    }
   ],
   "source": [
    "users_csv_file.filter(users_csv_file['country'] == 'France').filter(users_csv_file['name'].contains(\"y\")).show()"
   ]
  },
  {
   "cell_type": "markdown",
   "id": "6732cfc0",
   "metadata": {},
   "source": [
    "Utilisation de la méthode Where.\n",
    "Dans cet exemple, nous allons selectionner les utilisateurs qui sont en france et qui ont la lettre h dans leurs prenoms"
   ]
  },
  {
   "cell_type": "code",
   "execution_count": 18,
   "id": "904a4aea-340f-44ec-8446-8678d8788c15",
   "metadata": {},
   "outputs": [
    {
     "name": "stdout",
     "output_type": "stream",
     "text": [
      "+---------------+--------------+-------+\n",
      "|           name|         phone|country|\n",
      "+---------------+--------------+-------+\n",
      "|  Jescie Vaughn|1-802-201-1155| France|\n",
      "|Madeson Nichols|(872) 927-3473| France|\n",
      "|Charlotte Boyer|(774) 724-7782| France|\n",
      "|Maxwell Whitley|(322) 643-2583| France|\n",
      "|  Gavin Pacheco|1-721-208-1874| France|\n",
      "+---------------+--------------+-------+\n",
      "\n"
     ]
    }
   ],
   "source": [
    "users_csv_file.where((users_csv_file['country'] == 'France') & (users_csv_file['name'].contains('h'))).show()"
   ]
  },
  {
   "cell_type": "markdown",
   "id": "364830a3",
   "metadata": {},
   "source": [
    "Utilisation de groupBy, orderBy et count.\n",
    "Dans cet exemple, nous allons: \n",
    "  - regrouper les utilisateurs par pays grace à groupBy()\n",
    "  - puis les afficher par ordre décroissant grace à orderBy().\n",
    "\n",
    "Il existe aussi de nombreux autres méthodes applicables telles que:\n",
    "  - Mean : pour trouver la moyenne\n",
    "  - Max : pour trouver le maximum\n",
    "  - Min : pour trouver le minimum\n",
    "  - Sum : pour faire la somme"
   ]
  },
  {
   "cell_type": "code",
   "execution_count": 24,
   "id": "00bc1111-d14d-49fe-8065-c3ffdc005bb4",
   "metadata": {},
   "outputs": [
    {
     "name": "stdout",
     "output_type": "stream",
     "text": [
      "Pour phone\n",
      "+------------------+-----+\n",
      "|           country|count|\n",
      "+------------------+-----+\n",
      "|         Australia|   14|\n",
      "|           Austria|   13|\n",
      "|       Philippines|   13|\n",
      "|           Germany|   12|\n",
      "|            Mexico|   11|\n",
      "|              Peru|   11|\n",
      "|             India|   11|\n",
      "|         Indonesia|   11|\n",
      "|            France|   11|\n",
      "|           Nigeria|   10|\n",
      "|           Belgium|   10|\n",
      "|Russian Federation|   10|\n",
      "|           Ukraine|   10|\n",
      "|    United Kingdom|   10|\n",
      "|     United States|   10|\n",
      "|       South Korea|   10|\n",
      "|            Brazil|   10|\n",
      "|             Spain|    9|\n",
      "|            Canada|    9|\n",
      "|      South Africa|    9|\n",
      "+------------------+-----+\n",
      "only showing top 20 rows\n",
      "\n",
      "Pour country\n",
      "+------------------+-----+\n",
      "|           country|count|\n",
      "+------------------+-----+\n",
      "|         Australia|   14|\n",
      "|           Austria|   13|\n",
      "|       Philippines|   13|\n",
      "|           Germany|   12|\n",
      "|            Mexico|   11|\n",
      "|              Peru|   11|\n",
      "|             India|   11|\n",
      "|         Indonesia|   11|\n",
      "|            France|   11|\n",
      "|           Nigeria|   10|\n",
      "|           Belgium|   10|\n",
      "|Russian Federation|   10|\n",
      "|           Ukraine|   10|\n",
      "|    United Kingdom|   10|\n",
      "|     United States|   10|\n",
      "|       South Korea|   10|\n",
      "|            Brazil|   10|\n",
      "|             Spain|    9|\n",
      "|            Canada|    9|\n",
      "|      South Africa|    9|\n",
      "+------------------+-----+\n",
      "only showing top 20 rows\n",
      "\n"
     ]
    }
   ],
   "source": [
    "for col in users_csv_file.columns:\n",
    "    if(col != 'name'):\n",
    "        print(f\"Pour {col}\")\n",
    "        users_csv_file.groupBy('country').count().orderBy('count', ascending=False).show()"
   ]
  },
  {
   "cell_type": "markdown",
   "id": "21c33c21",
   "metadata": {},
   "source": [
    " Utilisation de Collect.\n",
    "    Cette méthode nous permet de transformer le dataframe en objet de type Collection.\n",
    "    Dans cet exemple, nous allons utiliser groupBy() et collect_set() pour\n",
    "        - regrouper les utilisateurs par pays\n",
    "        - mettre tous les numeros de telephone du pays correspondant dans une collection"
   ]
  },
  {
   "cell_type": "code",
   "execution_count": 32,
   "id": "92f3c6f7-359e-45a2-b5d5-40bbf616a658",
   "metadata": {},
   "outputs": [
    {
     "name": "stdout",
     "output_type": "stream",
     "text": [
      "+------------------+--------------------+\n",
      "|           country|  collect_set(phone)|\n",
      "+------------------+--------------------+\n",
      "|            Sweden|[(739) 676-1865, ...|\n",
      "|       Philippines|[1-743-338-2621, ...|\n",
      "|         Singapore|[(311) 349-6570, ...|\n",
      "|            Turkey|[1-843-647-5157, ...|\n",
      "|           Germany|[1-756-662-7873, ...|\n",
      "|            France|[1-638-798-2347, ...|\n",
      "|           Belgium|[(768) 663-3445, ...|\n",
      "|              Peru|[1-360-431-5265, ...|\n",
      "|     United States|[(833) 886-5775, ...|\n",
      "|             India|[(687) 787-2861, ...|\n",
      "|             China|[1-615-305-5370, ...|\n",
      "|             Chile|[(432) 354-8287, ...|\n",
      "|           Nigeria|[1-713-118-4175, ...|\n",
      "|             Italy|[1-575-351-1454, ...|\n",
      "|            Norway|[(560) 871-7877, ...|\n",
      "|             Spain|[1-224-872-1175, ...|\n",
      "|Russian Federation|[1-576-698-2792, ...|\n",
      "|           Ireland|[(153) 521-3522, ...|\n",
      "|           Ukraine|[1-347-584-2442, ...|\n",
      "|       South Korea|[1-868-578-5568, ...|\n",
      "+------------------+--------------------+\n",
      "only showing top 20 rows\n",
      "\n"
     ]
    }
   ],
   "source": [
    "users_csv_file.groupBy('country').agg(F.collect_set('phone')).show()"
   ]
  },
  {
   "cell_type": "code",
   "execution_count": 40,
   "id": "7807f995-7ad1-48f9-b684-512d5f11df1b",
   "metadata": {},
   "outputs": [],
   "source": [
    "# ajout d'une nouvelle colone avec une valeur constante\n",
    "users_csv_file =  users_csv_file.withColumn('constant', F.lit('humain'))"
   ]
  },
  {
   "cell_type": "code",
   "execution_count": 41,
   "id": "5cd4a494-25cc-4644-ae82-7bb3152c2c97",
   "metadata": {},
   "outputs": [
    {
     "name": "stdout",
     "output_type": "stream",
     "text": [
      "+-------------------+--------+\n",
      "|               name|constant|\n",
      "+-------------------+--------+\n",
      "|       Adara Mcneil|  humain|\n",
      "|     Barry Valencia|  humain|\n",
      "|      Barry Delgado|  humain|\n",
      "|      Shelley Oneal|  humain|\n",
      "|     Wyoming Cherry|  humain|\n",
      "|       Lani Holcomb|  humain|\n",
      "|       Cedric Leach|  humain|\n",
      "|          Edan Wood|  humain|\n",
      "|       Berk Goodwin|  humain|\n",
      "|      Palmer Burris|  humain|\n",
      "|         Nehru Nash|  humain|\n",
      "|      Kessie Branch|  humain|\n",
      "|     Emery Reynolds|  humain|\n",
      "|      Buffy Coleman|  humain|\n",
      "|     Chava Roberson|  humain|\n",
      "|    Maile Cervantes|  humain|\n",
      "|         Erin Frost|  humain|\n",
      "|     Jennifer Lucas|  humain|\n",
      "|Allistair Rodriguez|  humain|\n",
      "|     Odysseus Mckay|  humain|\n",
      "+-------------------+--------+\n",
      "only showing top 20 rows\n",
      "\n"
     ]
    }
   ],
   "source": [
    "users_csv_file.select(['name','constant']).show()"
   ]
  }
 ],
 "metadata": {
  "kernelspec": {
   "display_name": "Python 3 (ipykernel)",
   "language": "python",
   "name": "python3"
  },
  "language_info": {
   "codemirror_mode": {
    "name": "ipython",
    "version": 3
   },
   "file_extension": ".py",
   "mimetype": "text/x-python",
   "name": "python",
   "nbconvert_exporter": "python",
   "pygments_lexer": "ipython3",
   "version": "3.10.6"
  }
 },
 "nbformat": 4,
 "nbformat_minor": 5
}
