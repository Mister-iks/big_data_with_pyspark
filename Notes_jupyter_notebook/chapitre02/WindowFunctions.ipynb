{
 "cells": [
  {
   "cell_type": "code",
   "execution_count": 11,
   "id": "8bcb3771-85ff-4386-98c0-bbc5ce287c8e",
   "metadata": {},
   "outputs": [],
   "source": [
    "from pyspark.sql import SparkSession\n",
    "from pyspark.sql.window import Window\n",
    "from pyspark.sql.functions import col,row_number\n",
    "spark=SparkSession.builder.appName('data_processing').getOrCreate()"
   ]
  },
  {
   "cell_type": "markdown",
   "id": "8e61956e",
   "metadata": {},
   "source": [
    "Dans certains cas de traitement, nous devrons peut-être effectuer certaines opérations sur des groupes d'enregistrements.\n",
    "Pour ce faire, pyspark met à notre disposition une fonctionnalité nommée. ***Window***"
   ]
  },
  {
   "cell_type": "code",
   "execution_count": 17,
   "id": "a8448ba5-ca7c-4619-8206-1c5b3c1f8d71",
   "metadata": {},
   "outputs": [
    {
     "name": "stdout",
     "output_type": "stream",
     "text": [
      "+------------------+------+--------------------+----+\n",
      "|              name|salary|             company|rank|\n",
      "+------------------+------+--------------------+----+\n",
      "|      Gavin Decker|498069|Viverra Donec Tem...|   1|\n",
      "|      Alec Harrell|498059|Dis Parturient Co...|   2|\n",
      "|Jasmine Villarreal|496930|Euismod Mauris Co...|   3|\n",
      "|     Emily Mercado|494162| Arcu Eu Corporation|   4|\n",
      "|       Tarik Watts|493219|Nisi Cum Sociis C...|   5|\n",
      "|      Hakeem White|492255|Dictum Ultricies LLP|   6|\n",
      "|       Yoko Waters|489237|Dapibus Id Blandi...|   7|\n",
      "|       Dana Larson|485959|        Id Institute|   8|\n",
      "|     Alyssa Keller|480915|Velit Eget Laoree...|   9|\n",
      "|      Indigo Barry|476525|         Metus Corp.|  10|\n",
      "|        Belle Dean|470239|  Diam Eu Industries|  11|\n",
      "|        Lucy Ochoa|468212|        Semper Corp.|  12|\n",
      "|   Ethan Patterson|468114|  Aliquam Industries|  13|\n",
      "|     Bertha Graves|465842|    Class Aptent LLP|  14|\n",
      "|      Seth Ellison|465079|Donec Vitae Erat ...|  15|\n",
      "|   Brenden Camacho|462543|Rutrum Fusce Asso...|  16|\n",
      "|     Stephen Ortiz|460295| Adipiscing Enim Ltd|  17|\n",
      "|    Glenna Simmons|459049|Scelerisque Dui S...|  18|\n",
      "|       Libby Drake|458603|Mollis Duis Corpo...|  19|\n",
      "|       Alea Waller|456814| Nec Imperdiet Corp.|  20|\n",
      "+------------------+------+--------------------+----+\n",
      "only showing top 20 rows\n",
      "\n"
     ]
    }
   ],
   "source": [
    "employee_file = spark.read.csv(\"employee.csv\", header=True, inferSchema=True) #import du fichier employee\n",
    "win = Window.orderBy(employee_file['salary'].desc()) #creation de l'objet Window\n",
    "\n",
    "employee_file = employee_file.withColumn('rank', row_number().over(win).alias('rank')) #ajout d'une colone 'rank' puis fusion avec le fichier employee\n",
    "employee_file.show()"
   ]
  }
 ],
 "metadata": {
  "kernelspec": {
   "display_name": "Python 3 (ipykernel)",
   "language": "python",
   "name": "python3"
  },
  "language_info": {
   "codemirror_mode": {
    "name": "ipython",
    "version": 3
   },
   "file_extension": ".py",
   "mimetype": "text/x-python",
   "name": "python",
   "nbconvert_exporter": "python",
   "pygments_lexer": "ipython3",
   "version": "3.10.6"
  }
 },
 "nbformat": 4,
 "nbformat_minor": 5
}
