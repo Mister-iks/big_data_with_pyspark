{
 "cells": [
  {
   "cell_type": "code",
   "execution_count": 44,
   "id": "1718e27b-2151-4335-8c3d-e8b8b761eab3",
   "metadata": {},
   "outputs": [],
   "source": [
    "from pyspark.sql import SparkSession\n",
    "import pyspark.sql.functions as F\n",
    "from pyspark.sql.functions import udf\n",
    "from pyspark.sql.types import *\n",
    "spark=SparkSession.builder.appName('data_processing').getOrCreate()"
   ]
  },
  {
   "cell_type": "markdown",
   "id": "166d3a7f",
   "metadata": {},
   "source": [
    "Dans certaines mesures, vous auriez besoin d'appliquer des fonctions personnalisées.\n",
    "Pour ce faire, nous allons utiliser une fonction de pyspark.sql.functions nommée udf()."
   ]
  },
  {
   "cell_type": "markdown",
   "id": "cbfec364",
   "metadata": {},
   "source": [
    "Le fichier utilisé dans cette partie contient des adresses mails qui sont actifs ou inactifs."
   ]
  },
  {
   "cell_type": "code",
   "execution_count": 91,
   "id": "f10e1378-4550-49fe-8e8d-d839b4e62cb4",
   "metadata": {},
   "outputs": [
    {
     "name": "stdout",
     "output_type": "stream",
     "text": [
      "+--------------------+--------------+\n",
      "|               email| isActive_text|\n",
      "+--------------------+--------------+\n",
      "|sollicitudin.comm...|Compte inactif|\n",
      "|senectus.et@proto...|  Compte actif|\n",
      "|lacus.varius.et@i...|  Compte actif|\n",
      "|    diam@hotmail.net|  Compte actif|\n",
      "|   augue@outlook.net|Compte inactif|\n",
      "|non.cursus@outloo...|  Compte actif|\n",
      "|massa.integer.vit...|Compte inactif|\n",
      "|ullamcorper.duis@...|  Compte actif|\n",
      "| sem.eget@google.org|Compte inactif|\n",
      "|orci.lacus@hotmai...|Compte inactif|\n",
      "|et.magnis.dis@goo...|  Compte actif|\n",
      "|mollis.phasellus@...|Compte inactif|\n",
      "|eget.laoreet@hotm...|Compte inactif|\n",
      "|pellentesque.ut@g...|Compte inactif|\n",
      "|    proin@hotmail.ca|  Compte actif|\n",
      "| semper@outlook.couk|  Compte actif|\n",
      "|     nam@outlook.com|  Compte actif|\n",
      "|    sed.pede@aol.com|  Compte actif|\n",
      "|dui.semper@outloo...|Compte inactif|\n",
      "|ac.fermentum@yaho...|  Compte actif|\n",
      "+--------------------+--------------+\n",
      "only showing top 20 rows\n",
      "\n"
     ]
    }
   ],
   "source": [
    "users_email_csv_file = spark.read.csv(\"users_email.csv\", header=True, inferSchema=True)\n",
    "\n",
    "def verify_status(status):\n",
    "    \"\"\"\n",
    "        Cette fonction permet de trier les utilisateurs actifs ou non \n",
    "        :param status: qui est le status actuel de l'adresse mail\n",
    "        :return 'Compte actif' si status équivaut à 'Yes' ou 'Compte inactif' dans le cas contraire\n",
    "    \"\"\"\n",
    "    if(status == 'Yes'):\n",
    "        return \"Compte actif\"\n",
    "    elif(status == 'No'):\n",
    "        return \"Compte inactif\"\n",
    "\n",
    "#definition de la structure de notre fonction udf qui prend en parametre \n",
    "# notre fonction personalisée et le type du parametre de la fonction\n",
    "email_udf = udf(verify_status, StringType()) \n",
    "\n",
    "# ajout d'une colone 'isActive_text' sur lequel sera appliqué notre fonction email_udf\n",
    "users_email_csv_file = users_email_csv_file.withColumn('isActive_text', email_udf(users_email_csv_file['isactive']))\n",
    "users_email_csv_file.select(['email','isActive_text']).show()"
   ]
  },
  {
   "cell_type": "code",
   "execution_count": 92,
   "id": "ee671e73-b222-4041-ba6d-56b034b4ed38",
   "metadata": {},
   "outputs": [
    {
     "name": "stdout",
     "output_type": "stream",
     "text": [
      "+--------------+-----+\n",
      "| isActive_text|count|\n",
      "+--------------+-----+\n",
      "|  Compte actif|  136|\n",
      "|Compte inactif|  164|\n",
      "+--------------+-----+\n",
      "\n"
     ]
    }
   ],
   "source": [
    "users_email_csv_file.groupBy('isActive_text').count().show() # compte le nombre de comptes actifs et inactifs "
   ]
  }
 ],
 "metadata": {
  "kernelspec": {
   "display_name": "Python 3 (ipykernel)",
   "language": "python",
   "name": "python3"
  },
  "language_info": {
   "codemirror_mode": {
    "name": "ipython",
    "version": 3
   },
   "file_extension": ".py",
   "mimetype": "text/x-python",
   "name": "python",
   "nbconvert_exporter": "python",
   "pygments_lexer": "ipython3",
   "version": "3.10.6"
  }
 },
 "nbformat": 4,
 "nbformat_minor": 5
}
