{
 "cells": [
  {
   "cell_type": "code",
   "execution_count": 2,
   "id": "1718e27b-2151-4335-8c3d-e8b8b761eab3",
   "metadata": {},
   "outputs": [],
   "source": [
    "from pyspark.sql import SparkSession\n",
    "import pyspark.sql.functions as F\n",
    "from pyspark.sql.types import *\n",
    "spark=SparkSession.builder.appName('data_processing').getOrCreate()"
   ]
  },
  {
   "cell_type": "code",
   "execution_count": 6,
   "id": "15e06976-3fe5-453f-afcf-f4e8682d4b6d",
   "metadata": {},
   "outputs": [],
   "source": [
    "schema = StructType().add(\"user_id\",\"string\").add(\"country\",\"string\").add(\"browser\",\"string\").add(\"os\",\"string\").add(\"age\",\"integer\") #permet de definir la structure des données\n",
    "peopleDataframe = spark.createDataFrame([(\"A203\",'India',\"Chrome\",\"WIN\",33),(\"A201\",'China',\"Safari\",\"MacOS\",35),(\"A205\",'UK',\"Mozilla\",\"Linux\",25)],schema=schema) #creer un dataframe"
   ]
  },
  {
   "cell_type": "code",
   "execution_count": 10,
   "id": "e7cf9925-45cb-4725-8d0a-e91ccbd65ff3",
   "metadata": {},
   "outputs": [
    {
     "name": "stdout",
     "output_type": "stream",
     "text": [
      "+-------+-------+-------+-----+---+\n",
      "|user_id|country|browser|   os|age|\n",
      "+-------+-------+-------+-----+---+\n",
      "|   A203|  India| Chrome|  WIN| 33|\n",
      "|   A201|  China| Safari|MacOS| 35|\n",
      "|   A205|     UK|Mozilla|Linux| 25|\n",
      "+-------+-------+-------+-----+---+\n",
      "\n",
      "############################################\n",
      "Le dataframe people a  3\n",
      "############################################\n",
      "root\n",
      " |-- user_id: string (nullable = true)\n",
      " |-- country: string (nullable = true)\n",
      " |-- browser: string (nullable = true)\n",
      " |-- os: string (nullable = true)\n",
      " |-- age: integer (nullable = true)\n",
      "\n"
     ]
    }
   ],
   "source": [
    "#pour afficher les données contenus dans un dataframe\n",
    "peopleDataframe.show()\n",
    "print(\"############################################\")\n",
    "#pour compter le nombre de data dans le dataframe\n",
    "print(\"Le dataframe people a \",peopleDataframe.count())\n",
    "\n",
    "#afficher le schema du dataframe ( sa structure )\n",
    "print(\"############################################\")\n",
    "peopleDataframe.printSchema()"
   ]
  },
  {
   "cell_type": "code",
   "execution_count": null,
   "id": "d0ad7dd4-5870-4889-aede-1891d0819a8e",
   "metadata": {},
   "outputs": [],
   "source": []
  }
 ],
 "metadata": {
  "kernelspec": {
   "display_name": "Python 3.9.13 64-bit (microsoft store)",
   "language": "python",
   "name": "python3"
  },
  "language_info": {
   "codemirror_mode": {
    "name": "ipython",
    "version": 3
   },
   "file_extension": ".py",
   "mimetype": "text/x-python",
   "name": "python",
   "nbconvert_exporter": "python",
   "pygments_lexer": "ipython3",
   "version": "3.9.13"
  },
  "vscode": {
   "interpreter": {
    "hash": "8e284ee3255a07ad8bf76694974743c4c81cb57e7c969474d752d949b11d721e"
   }
  }
 },
 "nbformat": 4,
 "nbformat_minor": 5
}
