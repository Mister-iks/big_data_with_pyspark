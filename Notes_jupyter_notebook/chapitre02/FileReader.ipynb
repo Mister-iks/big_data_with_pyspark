{
 "cells": [
  {
   "cell_type": "code",
   "execution_count": 2,
   "id": "1718e27b-2151-4335-8c3d-e8b8b761eab3",
   "metadata": {},
   "outputs": [],
   "source": [
    "from pyspark.sql import SparkSession\n",
    "import pyspark.sql.functions as F\n",
    "from pyspark.sql.types import *\n",
    "spark=SparkSession.builder.appName('data_processing').getOrCreate()"
   ]
  },
  {
   "cell_type": "markdown",
   "id": "eaf5debf",
   "metadata": {},
   "source": [
    "Nous allons apprendre à traiter des fichiers de type ***csv*** .\n",
    "Le fichier ***users.csv*** contient une liste d'utilisateurs avec leur ***nom, telephone et pays***"
   ]
  },
  {
   "cell_type": "code",
   "execution_count": 23,
   "id": "09f41945-498c-4d9e-af08-7dbdd3860410",
   "metadata": {},
   "outputs": [
    {
     "name": "stdout",
     "output_type": "stream",
     "text": [
      "Le nombre de user du fichier est de :  300\n",
      "Le nombre de colone du fichier est de :  3\n",
      "root\n",
      " |-- name: string (nullable = true)\n",
      " |-- phone: string (nullable = true)\n",
      " |-- country: string (nullable = true)\n",
      "\n"
     ]
    }
   ],
   "source": [
    "#Ici, nous allons travailler sur un fichier csv grace à la methode read()\n",
    "users_csv_file =spark.read.csv(\"users.csv\", header=True, inferSchema=True)\n",
    "\n",
    "# permet de compter le nombre d'utilisateurs\n",
    "print(\"Le nombre de user du fichier est de : \",users_csv_file.count())\n",
    "\n",
    "# permet de compter le nombre de colones grace à columns\n",
    "print(\"Le nombre de colone du fichier est de : \",len(users_csv_file.columns))\n",
    "\n",
    "# permet d'afficher la structure du fichier\n",
    "users_csv_file.printSchema()"
   ]
  },
  {
   "cell_type": "code",
   "execution_count": 24,
   "id": "a7e13b58-16a5-49ea-846e-12b18e0ed264",
   "metadata": {},
   "outputs": [
    {
     "name": "stdout",
     "output_type": "stream",
     "text": [
      "+--------------+--------------+------------+\n",
      "|          name|         phone|     country|\n",
      "+--------------+--------------+------------+\n",
      "|  Adara Mcneil|1-432-718-7342|     Austria|\n",
      "|Barry Valencia|1-713-552-1604|      Sweden|\n",
      "| Barry Delgado|(238) 511-6613|     Vietnam|\n",
      "| Shelley Oneal|1-633-625-7464|      Canada|\n",
      "|Wyoming Cherry|1-831-372-6289|South Africa|\n",
      "+--------------+--------------+------------+\n",
      "only showing top 5 rows\n",
      "\n"
     ]
    }
   ],
   "source": [
    "# permet d'afficher un nombre defini de ligne \n",
    "users_csv_file.show(5)"
   ]
  }
 ],
 "metadata": {
  "kernelspec": {
   "display_name": "Python 3.9.13 64-bit (microsoft store)",
   "language": "python",
   "name": "python3"
  },
  "language_info": {
   "codemirror_mode": {
    "name": "ipython",
    "version": 3
   },
   "file_extension": ".py",
   "mimetype": "text/x-python",
   "name": "python",
   "nbconvert_exporter": "python",
   "pygments_lexer": "ipython3",
   "version": "3.9.13"
  },
  "vscode": {
   "interpreter": {
    "hash": "200bf9f17d0b4c9debadf4e26235de8ffbdd88f50c54d619fdc4675cc7d556f9"
   }
  }
 },
 "nbformat": 4,
 "nbformat_minor": 5
}
