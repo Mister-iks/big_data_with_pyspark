{
 "cells": [
  {
   "cell_type": "markdown",
   "metadata": {},
   "source": [
    "                                            ***Spark Streaming***\n",
    "\n",
    "Il s'agit d'un module de Spark qui permet de faire le traitement des données en temps réel via les outils suivants:\n",
    "\n",
    "- Spark Sql : pour interroger et modifier les données comme avec des requetes SQL\n",
    "- Spark MLib : pour utiliser des modèles de machine learning\n",
    "- GraphX : pour le calcul et la création de graphes\n"
   ]
  },
  {
   "cell_type": "markdown",
   "metadata": {},
   "source": [
    "***Structured Streaming*** : c'est un moteur de traitement de flux qui est basé sur Spark SQL.\n",
    "Il existe trois domaines principaux dans lesquels nous pouvons diviser ce framework :\n",
    "1. Data input (saisie des données)\n",
    "2. Data processing( en temps réel ou quasi réel)\n",
    "3. Final output \n"
   ]
  },
  {
   "cell_type": "markdown",
   "metadata": {},
   "source": [
    "***Data input***\n",
    "Pour une application de streaming, on doit pouvoir ingerer et traiter des données en continu et pour se faire nous pourrons utiliser.\n",
    "- ***Des systèmes de méssagerie :*** comme kafka, Flume, logstash\n",
    "- ***Dossiers ou repertoire de fichiers :*** les fichiers contenus dans ces repertoires peuvent etre au format text, JSON ou Parquet"
   ]
  },
  {
   "cell_type": "markdown",
   "metadata": {},
   "source": [
    "***Data processing*** Ceci est au cœur de l'utilisation des données en continu pour créer de la valeur commerciale, car il peut être appliqué à certaines opérations sur les données entrantes pour obtenir des résultats.\n",
    "\n",
    "Des opérations telles que des agrégations, des filtrages, des jointures, des tris, etc., peuvent être appliquées."
   ]
  },
  {
   "cell_type": "markdown",
   "metadata": {},
   "source": [
    "***Final output*** : Le Streaming structuré offre plusieurs options pour sauvegarder les rsultats finaux parmis lesquelles on a:\n",
    "- Le mode Append : lors de l'enregistrement d'un Dataframe, si les données ou les tables existent déja, le contenu du Dataframe sera directement ajouté aux données existantes.\n",
    "\n",
    "- Le mode Complete : met à jour l'ensemble du tableau\n",
    "de résultats à l'emplacement de sortie final.Ces sorties sont ***Evier de repertoire de fichier***, ***Console*** ou ***evier de mémoire***\n"
   ]
  }
 ],
 "metadata": {
  "kernelspec": {
   "display_name": "Python 3.9.6 64-bit",
   "language": "python",
   "name": "python3"
  },
  "language_info": {
   "name": "python",
   "version": "3.9.6"
  },
  "orig_nbformat": 4,
  "vscode": {
   "interpreter": {
    "hash": "6069702d5fcabcf7581513d259f3f0ddffb11a9d02248dfa1a5046970af3af6c"
   }
  }
 },
 "nbformat": 4,
 "nbformat_minor": 2
}
