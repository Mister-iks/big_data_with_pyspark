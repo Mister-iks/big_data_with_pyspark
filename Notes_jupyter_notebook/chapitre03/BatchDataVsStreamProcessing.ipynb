{
 "cells": [
  {
   "cell_type": "markdown",
   "metadata": {},
   "source": [
    "***Traitement par lot:*** Le traitement par lots fait réference au traitement d'un volume élevé de données par lots sur une période de temps donnée.\n",
    "Elle est souvent utilisé lorsque la taille des données est connue et finie.\n",
    "\n",
    "***Traitement par flux:*** Ce genre de traitement fait réference au traitement d'un flux continu de données en temps réel ou quasi réel.\n",
    "Elle est utilisée lorsque la taille des données est inconnue, infinie et continue.\n"
   ]
  }
 ],
 "metadata": {
  "kernelspec": {
   "display_name": "Python 3.10.6 64-bit",
   "language": "python",
   "name": "python3"
  },
  "language_info": {
   "name": "python",
   "version": "3.10.6"
  },
  "orig_nbformat": 4,
  "vscode": {
   "interpreter": {
    "hash": "369f2c481f4da34e4445cda3fffd2e751bd1c4d706f27375911949ba6bb62e1c"
   }
  }
 },
 "nbformat": 4,
 "nbformat_minor": 2
}
